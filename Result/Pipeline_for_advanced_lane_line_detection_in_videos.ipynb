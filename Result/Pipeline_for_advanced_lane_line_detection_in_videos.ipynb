{
 "cells": [
  {
   "cell_type": "markdown",
   "metadata": {},
   "source": [
    "# Pipeline for advanced lane line detection in videos\n",
    "#### Author: Pengmian Yan\n",
    "#### Project: P2 Advanced Lane Finding\n"
   ]
  },
  {
   "cell_type": "markdown",
   "metadata": {},
   "source": [
    "## Import"
   ]
  },
  {
   "cell_type": "code",
   "execution_count": 1,
   "metadata": {},
   "outputs": [],
   "source": [
    "import numpy as np\n",
    "import cv2\n",
    "import matplotlib.pyplot as plt\n",
    "import glob\n",
    "from PIL import Image\n",
    "import matplotlib.image as mpimg\n",
    "%matplotlib qt\n",
    "\n",
    "# Import everything needed to edit/save/watch video clips\n",
    "from moviepy.editor import VideoFileClip\n",
    "from IPython.display import HTML\n",
    "%matplotlib inline"
   ]
  },
  {
   "cell_type": "markdown",
   "metadata": {},
   "source": [
    "## Camera Calibration"
   ]
  },
  {
   "cell_type": "code",
   "execution_count": 14,
   "metadata": {},
   "outputs": [],
   "source": [
    "#prepare object points \n",
    "objp = np.zeros((6*9,3),np.float32)\n",
    "objp[:,:2] = np.mgrid[0:9,0:6].T.reshape(-1,2)\n",
    "\n",
    "#Arrays to store object points and image points from all images\n",
    "objpoints = [] #3d object points in real world space\n",
    "imgpoints = [] #2d image points in image plane\n",
    "\n",
    "#make a list of calibration images\n",
    "images = glob.glob('../camera_cal/calibration*.jpg')\n",
    "img_size = (img.shape[1],img.shape[0])\n",
    "#plt.imshow(images)\n",
    "\n",
    "# Step through the list and search for chessboard corners\n",
    "for idx,fname in enumerate(images):\n",
    "    img = cv2.imread(fname)\n",
    "    gray = cv2.cvtColor(img,cv2.COLOR_BGR2GRAY)\n",
    "    \n",
    "    #find the chessboard corners\n",
    "    ret,corners = cv2.findChessboardCorners(gray,(9,6),None)\n",
    "    \n",
    "    # If found, add object points, image points\n",
    "    if ret == True:\n",
    "        objpoints.append(objp)\n",
    "        imgpoints.append(corners)\n",
    "#     # Draw and display the corners   \n",
    "#     cv2.drawChessboardCorners(img,(9,6),corners,ret)\n",
    "#     plt.imshow(img)\n",
    "#     cv2.waitKey(500)\n",
    "\n",
    "import pickle\n",
    "%matplotlib inline\n",
    "\n",
    "# # Test undistortion on an image\n",
    "# img =  cv2.imread('../camera_cal/calibration1.jpg')\n",
    "\n",
    "\n",
    "# Do camera calibration given object points and image points\n",
    "ret,mtx,dist,rvecs,tvecs = cv2.calibrateCamera(objpoints,imgpoints,img_size,None,None)\n",
    "\n",
    "# dst = cv2.undistort(img, mtx, dist, None, mtx)\n",
    "# cv2.imwrite('after_calibration/test_undist.jpg',dst)\n",
    "\n",
    "# # Save the camera calibration result for later use (we won't worry about rvecs / tvecs)\n",
    "# dist_pickle = {}\n",
    "# dist_pickle[\"mtx\"] = mtx\n",
    "# dist_pickle[\"dist\"] = dist\n",
    "# #pickle.dump( dist_pickle, open( \"Result/camera.p\", \"wb\" ) )\n",
    "# parameter = open( \"Result/camera.p\",\"wb\")\n",
    "# pickle.dump(dist_pickle,parameter,-1)"
   ]
  },
  {
   "cell_type": "markdown",
   "metadata": {},
   "source": [
    "\n",
    "## Definition of line class"
   ]
  },
  {
   "cell_type": "code",
   "execution_count": 3,
   "metadata": {},
   "outputs": [],
   "source": [
    "class Line():\n",
    "    def __init__(self):\n",
    "        # was the line detected in the last iteration?\n",
    "        self.detected = False  \n",
    "        # x values of the last n fits of the line\n",
    "        self.recent_xfitted = [] \n",
    "        #average x values of the fitted line over the last n iterations\n",
    "        self.bestx = None     \n",
    "        #polynomial coefficients averaged over the last n iterations\n",
    "        self.best_fit = None  \n",
    "        #polynomial coefficients for the most recent fit\n",
    "        self.current_fit = [np.array([False])]  \n",
    "        #radius of curvature of the line in some units\n",
    "        self.radius_of_curvature = None \n",
    "        #distance in meters of vehicle center from the line\n",
    "        self.line_base_pos = None \n",
    "        #difference in fit coefficients between last and new fits\n",
    "        self.diffs = np.array([0,0,0], dtype='float') \n",
    "        #x values for detected line pixels\n",
    "        self.allx = None  \n",
    "        #y values for detected line pixels\n",
    "        self.ally = None "
   ]
  },
  {
   "cell_type": "markdown",
   "metadata": {},
   "source": [
    "## Color and gradien threshold"
   ]
  },
  {
   "cell_type": "code",
   "execution_count": 4,
   "metadata": {},
   "outputs": [],
   "source": [
    "def ColorGradienThreshold(img, s_thresh=(140, 255), sx_thresh=(50, 170)):\n",
    "    img = np.copy(img)\n",
    "    # Convert to HLS color space and separate the V channel\n",
    "    hls = cv2.cvtColor(img, cv2.COLOR_RGB2HLS)\n",
    "    l_channel = hls[:,:,1]\n",
    "    s_channel = hls[:,:,2]\n",
    "    # Sobel x\n",
    "    sobelx = cv2.Sobel(l_channel, cv2.CV_64F, 1, 0) # Take the derivative in x\n",
    "    abs_sobelx = np.absolute(sobelx) # Absolute x derivative to accentuate lines away from horizontal\n",
    "    scaled_sobel = np.uint8(255*abs_sobelx/np.max(abs_sobelx))\n",
    "    \n",
    "    # Threshold x gradient\n",
    "    sxbinary = np.zeros_like(scaled_sobel)\n",
    "    sxbinary[(scaled_sobel >= sx_thresh[0]) & (scaled_sobel <= sx_thresh[1])] = 1\n",
    "\n",
    "    # Threshold color channel s\n",
    "    s_binary = np.zeros_like(s_channel)\n",
    "    s_binary[(s_channel >= s_thresh[0]) & (s_channel <= s_thresh[1])] = 1\n",
    "    \n",
    "    #gray binary\n",
    "    binary = np.zeros_like(s_channel)\n",
    "    binary[(sxbinary==1) | (s_binary==1)] =1\n",
    "    gray_binary = np.dstack((binary, binary, binary)) * 255\n",
    "    # Stack each channel\n",
    "#     color_binary = np.dstack(( np.zeros_like(sxbinary), sxbinary, s_binary)) * 255\n",
    "#     return color_binary\n",
    "#     return gray_binary\n",
    "    return binary"
   ]
  },
  {
   "cell_type": "markdown",
   "metadata": {},
   "source": [
    "## Perspective Transform"
   ]
  },
  {
   "cell_type": "code",
   "execution_count": 5,
   "metadata": {},
   "outputs": [],
   "source": [
    "def warper(img,src,dst):\n",
    "    '''\n",
    "    Tansform the perspective to Bird-eye view.\n",
    "    '''\n",
    "    #Compute the perspective transform, M, given source and destination points:\n",
    "    M = cv2.getPerspectiveTransform(src, dst)\n",
    "    \n",
    "    #Compute the inverse perspective transform:\n",
    "    Minv = cv2.getPerspectiveTransform(dst, src)\n",
    "    \n",
    "    #Warp an image using the perspective transform, M:\n",
    "    warped_img = cv2.warpPerspective(img, M, img_size, flags=cv2.INTER_LINEAR)\n",
    "    \n",
    "    return warped_img\n",
    "    "
   ]
  },
  {
   "cell_type": "markdown",
   "metadata": {},
   "source": [
    "\n",
    "## Finding the lines"
   ]
  },
  {
   "cell_type": "code",
   "execution_count": 6,
   "metadata": {},
   "outputs": [],
   "source": [
    "def find_lane_pixels(binary_warped):\n",
    "    '''\n",
    "    Finding the lines in warped binary images\n",
    "    '''\n",
    "    # Take a histogram of the bottom half of the image\n",
    "    histogram = np.sum(binary_warped[binary_warped.shape[0]//2:,:], axis=0)\n",
    "    # Create an output image to draw on and visualize the result\n",
    "    out_img = np.dstack((binary_warped, binary_warped, binary_warped))\n",
    "    # Find the peak of the left and right halves of the histogram\n",
    "    # These will be the starting point for the left and right lines\n",
    "    midpoint = np.int(histogram.shape[0]//2)\n",
    "    #print(histogram.shape)\n",
    "    leftx_base = np.argmax(histogram[:midpoint])\n",
    "    rightx_base = np.argmax(histogram[midpoint:]) + midpoint\n",
    "\n",
    "    # HYPERPARAMETERS\n",
    "    # Choose the number of sliding windows\n",
    "    nwindows = 14\n",
    "    # Set the width of the windows +/- margin\n",
    "    margin = 100\n",
    "    # Set minimum number of pixels found to recenter window\n",
    "    minpix = 25\n",
    "\n",
    "    # Set height of windows - based on nwindows above and image shape\n",
    "    window_height = np.int(binary_warped.shape[0]//nwindows)\n",
    "    # Identify the x and y positions of all nonzero pixels in the image\n",
    "    nonzero = binary_warped.nonzero()\n",
    "    nonzeroy = np.array(nonzero[0])\n",
    "    nonzerox = np.array(nonzero[1])\n",
    "    #print(nonzero)\n",
    "    # Current positions to be updated later for each window in nwindows\n",
    "    leftx_current = leftx_base\n",
    "    rightx_current = rightx_base\n",
    "\n",
    "    # Create empty lists to receive left and right lane pixel indices\n",
    "    left_lane_inds = []\n",
    "    right_lane_inds = []\n",
    "\n",
    "    # Step through the windows one by one\n",
    "    for window in range(nwindows):\n",
    "        # Identify window boundaries in x and y (and right and left)\n",
    "        win_y_low = binary_warped.shape[0] - (window+1)*window_height\n",
    "        win_y_high = binary_warped.shape[0] - window*window_height\n",
    "        ### TO-DO: Find the four below boundaries of the window ###\n",
    "        win_xleft_low = leftx_current - margin  # Update this\n",
    "        win_xleft_high = leftx_current + margin  # Update this\n",
    "        win_xright_low = rightx_current - margin  # Update this\n",
    "        win_xright_high = rightx_current + margin  # Update this\n",
    "        \n",
    "        # Draw the windows on the visualization image\n",
    "#         cv2.rectangle(out_img,(win_xleft_low,win_y_low),(win_xleft_high,win_y_high),(0,255,0), 4) \n",
    "#         cv2.rectangle(out_img,(win_xright_low,win_y_low),(win_xright_high,win_y_high),(0,255,0), 4) \n",
    "        \n",
    "        ### TO-DO: Identify the nonzero pixels in x and y within the window ###\n",
    "        # good_left_inds = nonzero[(nonzerox>win_xleft_low)&(nonzerox<win_xleft_high)&(nonzeroy>win_y_low)&(nonzeroy<win_y_high)]\n",
    "        # good_right_inds = nonzero[(nonzerox>win_xright_low)&(nonzerox<win_xright_high)&(nonzeroy>win_y_low)&(nonzeroy<win_y_high)]\n",
    "        good_left_inds = []\n",
    "        good_right_inds = []\n",
    "        for i in range(nonzerox.shape[0]):\n",
    "            if (nonzeroy[i]>win_y_low)&(nonzeroy[i]<win_y_high):\n",
    "                if (nonzerox[i]>win_xleft_low)&(nonzerox[i]<win_xleft_high):\n",
    "                    good_left_inds.append(i)\n",
    "                if (nonzerox[i]>win_xright_low)&(nonzerox[i]<win_xright_high):\n",
    "                    good_right_inds.append(i)    \n",
    "        # Append these indices to the lists\n",
    "        left_lane_inds.append(good_left_inds)\n",
    "        right_lane_inds.append(good_right_inds)\n",
    "\n",
    "        ### TO-DO: If you found > minpix pixels, recenter next window ###\n",
    "        ### (`right` or `leftx_current`) on their mean position ###\n",
    "        if len(good_left_inds)>minpix:\n",
    "            leftx_current = np.int(np.mean(nonzerox[good_left_inds]))\n",
    "        if len(good_right_inds)>minpix:\n",
    "            rightx_current = np.int(np.mean(nonzerox[good_right_inds]))\n",
    "\n",
    "    # Concatenate the arrays of indices (previously was a list of lists of pixels)\n",
    "    try:\n",
    "        left_lane_inds = np.concatenate(left_lane_inds).astype(np.int64)\n",
    "        \n",
    "        right_lane_inds = np.concatenate(right_lane_inds).astype(np.int64)\n",
    "        \n",
    "    except ValueError:\n",
    "        # Avoids an error if the above is not implemented fully\n",
    "        pass\n",
    "\n",
    "    # Extract left and right line pixel positions\n",
    "    leftx = nonzerox[left_lane_inds]\n",
    "    lefty = nonzeroy[left_lane_inds] \n",
    "    rightx = nonzerox[right_lane_inds]\n",
    "    righty = nonzeroy[right_lane_inds]\n",
    "\n",
    "    return leftx, lefty, rightx, righty, out_img"
   ]
  },
  {
   "cell_type": "markdown",
   "metadata": {},
   "source": [
    "\n",
    "## Fit Polynomial"
   ]
  },
  {
   "cell_type": "code",
   "execution_count": 7,
   "metadata": {},
   "outputs": [],
   "source": [
    "def fit_polynomial(binary_warped):\n",
    "    # Find our lane pixels first\n",
    "    leftx, lefty, rightx, righty, out_img = find_lane_pixels(binary_warped)\n",
    "\n",
    "    ### TO-DO: Fit a second order polynomial to each using `np.polyfit` ###\n",
    "    left_fit = np.polyfit(lefty,leftx,2)\n",
    "    right_fit = np.polyfit(righty,rightx,2)\n",
    "    \n",
    "    # Generate x and y values for plotting\n",
    "    ploty = np.linspace(0, binary_warped.shape[0]-1, binary_warped.shape[0] )\n",
    "    try:\n",
    "        left_fitx = left_fit[0]*ploty**2 + left_fit[1]*ploty + left_fit[2]\n",
    "        right_fitx = right_fit[0]*ploty**2 + right_fit[1]*ploty + right_fit[2]\n",
    "    except TypeError:\n",
    "        # Avoids an error if `left` and `right_fit` are still none or incorrect\n",
    "        print('The function failed to fit a line!')\n",
    "        left_fitx = 1*ploty**2 + 1*ploty\n",
    "        right_fitx = 1*ploty**2 + 1*ploty\n",
    "\n",
    "    ## Visualization ##\n",
    "    # Colors in the left and right lane regions\n",
    "    out_img[lefty, leftx] = [255, 0, 0]\n",
    "    out_img[righty, rightx] = [0, 0, 255]\n",
    "\n",
    "    # Plots the left and right polynomials on the lane lines\n",
    "#     plt.plot(left_fitx, ploty, color='yellow')\n",
    "#     plt.plot(right_fitx, ploty, color='yellow')\n",
    "\n",
    "    return ploty,left_fit,right_fit,out_img\n"
   ]
  },
  {
   "cell_type": "markdown",
   "metadata": {},
   "source": [
    "\n",
    "## Curvature Calculation"
   ]
  },
  {
   "cell_type": "code",
   "execution_count": 8,
   "metadata": {},
   "outputs": [],
   "source": [
    "def measure_curvature_real(ploty, left_fit_cr, right_fit_cr):\n",
    "    '''\n",
    "    Calculates the curvature of polynomial functions in meters.\n",
    "    '''\n",
    "    # Define conversions in x and y from pixels space to meters\n",
    "    ym_per_pix = 30/720 # meters per pixel in y dimension\n",
    "    xm_per_pix = 3.7/700 # meters per pixel in x dimension\n",
    "    \n",
    "    # Define y-value where we want radius of curvature\n",
    "    # We'll choose the maximum y-value, corresponding to the bottom of the image\n",
    "    y_eval = np.max(ploty)\n",
    "    \n",
    "    ##### TO-DO: Implement the calculation of R_curve (radius of curvature) #####\n",
    "    left_curverad = (1+(2*left_fit_cr[0]*y_eval+left_fit_cr[1])**2)**1.5/np.absolute(2*left_fit_cr[0])  ## Implement the calculation of the left line here\n",
    "    right_curverad = (1+(2*right_fit_cr[0]*y_eval+right_fit_cr[1])**2)**1.5/np.absolute(2*right_fit_cr[0])  ## Implement the calculation of the right line here\n",
    "    \n",
    "    return left_curverad, right_curverad"
   ]
  },
  {
   "cell_type": "markdown",
   "metadata": {},
   "source": [
    "\n",
    "## Position Estimation"
   ]
  },
  {
   "cell_type": "code",
   "execution_count": 9,
   "metadata": {},
   "outputs": [],
   "source": [
    "def estimate_lateral_Positon(ploty, left_fit, right_fit, xmax):\n",
    "    '''\n",
    "    Estimation of the lateral position of car with respect to the lane center\n",
    "    '''\n",
    "    # Define y-value where we want estimate the latera position\n",
    "    # We'll choose the maximum y-value, corresponding to the bottom of the image\n",
    "    y_eval = np.max(ploty)\n",
    "    \n",
    "    #Calculation of the correspond x Positon\n",
    "    x_left = left_fit[0]*(y_eval**2) + left_fit[1]*y_eval + left_fit[2]\n",
    "    x_right = right_fit[0]*(y_eval**2) + right_fit[1]*y_eval + right_fit[2]\n",
    "    \n",
    "    #Calulation of the lateral position in pixels\n",
    "    lateral_position = -(x_left - (xmax - x_right))/2\n",
    "    \n",
    "    #Compute the lateral position in real world\n",
    "    xm_per_pix = 3.7/700 # meters per pixel in x dimension\n",
    "    lateral_position_real = lateral_position*xm_per_pix\n",
    "    \n",
    "    return lateral_position_real"
   ]
  },
  {
   "cell_type": "markdown",
   "metadata": {},
   "source": [
    "\n",
    "## Prozess Image"
   ]
  },
  {
   "cell_type": "code",
   "execution_count": 10,
   "metadata": {},
   "outputs": [],
   "source": [
    "def process_image(img, line_left, line_right):\n",
    "    # Undistortion and gradient on images\n",
    "    img_size = (img.shape[1],img.shape[0])\n",
    "    undist = cv2.undistort(img, mtx, dist, None, mtx)\n",
    "    # cv2.imwrite('output_images/test2_undist.jpg',undist)\n",
    "    binary_output = ColorGradienThreshold(undist)\n",
    "\n",
    "    #Perspective Transform\n",
    "    #source points:\n",
    "    src = np.float32(\n",
    "    [[600, 446],\n",
    "    [237, img_size[1]],\n",
    "    [1082, img_size[1]],\n",
    "    [680, 446]])\n",
    "    #destination points\n",
    "    dst = np.float32(\n",
    "    [[(img_size[0] / 4), 0],\n",
    "    [(img_size[0] / 4), img_size[1]],\n",
    "    [(img_size[0] * 3 / 4), img_size[1]],\n",
    "    [(img_size[0] * 3 / 4), 0]])\n",
    "\n",
    "    img_warped = warper(binary_output,src,dst)\n",
    "    # plt.imshow(img_warped)\n",
    "    #cv2.imwrite('output_images/test2_warped.jpg',img_warped)\n",
    "    ploty,left_fit,right_fit,img_warped_lines = fit_polynomial(img_warped)\n",
    "    # plt.imshow(img_warped_lines)\n",
    "    #cv2.imwrite('output_images/test1_warped_lines.jpg',test1_warped_lines)\n",
    "    curvature = measure_curvature_real(ploty,left_fit,right_fit)\n",
    "#     print(curvature)\n",
    "    Car_lateral_Position = estimate_lateral_Positon(ploty,left_fit,right_fit,img.shape[1])\n",
    "#     print(Car_lateral_Position)\n",
    "\n",
    "    # Create an image to draw the lines on\n",
    "    warp_zero = np.zeros_like(img_warped).astype(np.uint8)\n",
    "    color_warp = np.dstack((warp_zero, warp_zero, warp_zero))\n",
    "\n",
    "    # Recast the x and y points into usable format for cv2.fillPoly()\n",
    "    left_fitx = left_fit[0]*ploty**2 + left_fit[1]*ploty + left_fit[2]\n",
    "    right_fitx = right_fit[0]*ploty**2 + right_fit[1]*ploty + right_fit[2]\n",
    "    pts_left = np.array([np.transpose(np.vstack([left_fitx, ploty]))])\n",
    "    pts_right = np.array([np.flipud(np.transpose(np.vstack([right_fitx, ploty])))])\n",
    "    pts = np.hstack((pts_left, pts_right))\n",
    "\n",
    "    # Draw the lane onto the warped blank image\n",
    "    cv2.fillPoly(color_warp, np.int_([pts]), (0,255, 0))\n",
    "\n",
    "    # Warp the blank back to original image space using inverse perspective matrix (Minv)\n",
    "    newwarp = warper(color_warp,dst,src)\n",
    "\n",
    "    # Combine the result with the original image\n",
    "    result = cv2.addWeighted(undist, 1, newwarp, 0.3, 0)\n",
    "\n",
    "    #display the curvature and the position of car\n",
    "    text1 = 'Radius of Curvatur = '+ str(round(np.mean(curvature)).astype(np.int64)) + '(m)'\n",
    "    if Car_lateral_Position < 0:\n",
    "        text2 = 'Vehicle is ' + str(round(np.absolute(Car_lateral_Position),2)) + 'm left of center'\n",
    "    elif Car_lateral_Position > 0:\n",
    "        text2 = 'Vehicle is ' + str(round(np.absolute(Car_lateral_Position),2)) + 'm right of center'\n",
    "    else:\n",
    "        text2 = 'Vehicle is on the center of lane'                      \n",
    "    cv2.putText(result, text1, (100, 100), cv2.FONT_HERSHEY_SIMPLEX, 1.5, (255, 255, 255), lineType=cv2.LINE_AA) \n",
    "    cv2.putText(result, text2, (100, 150), cv2.FONT_HERSHEY_SIMPLEX, 1.5, (255, 255, 255), lineType=cv2.LINE_AA) \n",
    "\n",
    "    # #save the result\n",
    "    # cv2.imwrite('output_images/test6_with_lane.jpg',result)\n",
    "\n",
    "    # #plot the result\n",
    "    # b,g,r = cv2.split(result)  \n",
    "    # result_show = cv2.merge([r,g,b])  \n",
    "    # plt.imshow(result_show)\n",
    "    return result"
   ]
  },
  {
   "cell_type": "markdown",
   "metadata": {},
   "source": [
    "\n",
    "## Main Function"
   ]
  },
  {
   "cell_type": "code",
   "execution_count": 15,
   "metadata": {},
   "outputs": [
    {
     "name": "stdout",
     "output_type": "stream",
     "text": [
      "[MoviePy] >>>> Building video ./project_video_output.mp4\n",
      "[MoviePy] Writing video ./project_video_output.mp4\n"
     ]
    },
    {
     "name": "stderr",
     "output_type": "stream",
     "text": [
      "100%|█████████▉| 1260/1261 [09:11<00:00,  1.99it/s]\n"
     ]
    },
    {
     "name": "stdout",
     "output_type": "stream",
     "text": [
      "[MoviePy] Done.\n",
      "[MoviePy] >>>> Video ready: ./project_video_output.mp4 \n",
      "\n",
      "CPU times: user 6min 47s, sys: 20.6 s, total: 7min 8s\n",
      "Wall time: 9min 13s\n"
     ]
    }
   ],
   "source": [
    "white_output = './project_video_output.mp4'\n",
    "## To speed up the testing process you may want to try your pipeline on a shorter subclip of the video\n",
    "## To do so add .subclip(start_second,end_second) to the end of the line below\n",
    "## Where start_second and end_second are integer values representing the start and end of the subclip\n",
    "## You may also uncomment the following line for a subclip of the first 5 seconds\n",
    "clip1 = VideoFileClip(\"../project_video.mp4\")\n",
    "# clip1 = VideoFileClip(\"../project_video.mp4\")\n",
    "white_clip, line_left,  = clip1.fl_image(process_image) #NOTE: this function expects color images!!\n",
    "%time white_clip.write_videofile(white_output, audio=False)"
   ]
  },
  {
   "cell_type": "code",
   "execution_count": null,
   "metadata": {},
   "outputs": [],
   "source": []
  }
 ],
 "metadata": {
  "kernelspec": {
   "display_name": "Python 3",
   "language": "python",
   "name": "python3"
  },
  "language_info": {
   "codemirror_mode": {
    "name": "ipython",
    "version": 3
   },
   "file_extension": ".py",
   "mimetype": "text/x-python",
   "name": "python",
   "nbconvert_exporter": "python",
   "pygments_lexer": "ipython3",
   "version": "3.6.3"
  }
 },
 "nbformat": 4,
 "nbformat_minor": 2
}
