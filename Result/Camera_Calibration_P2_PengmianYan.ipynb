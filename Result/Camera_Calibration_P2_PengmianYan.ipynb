{
 "cells": [
  {
   "cell_type": "markdown",
   "metadata": {},
   "source": [
    "# Camera Calibration for P2\n",
    "#### Author: Pengmian Yan\n",
    "#### Project: P2 Advanced Lane Finding\n"
   ]
  },
  {
   "cell_type": "markdown",
   "metadata": {},
   "source": [
    "## Import"
   ]
  },
  {
   "cell_type": "code",
   "execution_count": 16,
   "metadata": {},
   "outputs": [],
   "source": [
    "import numpy as np\n",
    "import cv2\n",
    "import matplotlib.pyplot as plt\n",
    "import glob\n",
    "%matplotlib qt"
   ]
  },
  {
   "cell_type": "markdown",
   "metadata": {},
   "source": [
    "\n",
    "## Camera Calibration"
   ]
  },
  {
   "cell_type": "code",
   "execution_count": 23,
   "metadata": {},
   "outputs": [],
   "source": [
    "#prepare object points \n",
    "objp = np.zeros((6*9,3),np.float32)\n",
    "objp[:,:2] = np.mgrid[0:9,0:6].T.reshape(-1,2)\n",
    "\n",
    "#Arrays to store object points and image points from all images\n",
    "objpoints = [] #3d object points in real world space\n",
    "imgpoints = [] #2d image points in image plane\n",
    "\n",
    "#make a list of calibration images\n",
    "images = glob.glob('camera_cal/calibration*.jpg')\n",
    "#plt.imshow(images)\n",
    "\n",
    "# Step through the list and search for chessboard corners\n",
    "for idx,fname in enumerate(images):\n",
    "    img = cv2.imread(fname)\n",
    "    gray = cv2.cvtColor(img,cv2.COLOR_BGR2GRAY)\n",
    "    \n",
    "    #find the chessboard corners\n",
    "    ret,corners = cv2.findChessboardCorners(gray,(9,6),None)\n",
    "    \n",
    "    # If found, add object points, image points\n",
    "    if ret == True:\n",
    "        objpoints.append(objp)\n",
    "        imgpoints.append(corners)\n",
    "#     # Draw and display the corners   \n",
    "#     cv2.drawChessboardCorners(img,(9,6),corners,ret)\n",
    "#     plt.imshow(img)\n",
    "#     cv2.waitKey(500)\n",
    "\n",
    "import pickle\n",
    "%matplotlib inline\n",
    "\n",
    "# Test undistortion on an image\n",
    "img =  cv2.imread('camera_cal/calibration1.jpg')\n",
    "img_size = (img.shape[1],img.shape[0])\n",
    "\n",
    "# Do camera calibration given object points and image points\n",
    "ret,mtx,dist,rvecs,tvecs = cv2.calibrateCamera(objpoints,imgpoints,img_size,None,None)\n",
    "\n",
    "dst = cv2.undistort(img, mtx, dist, None, mtx)\n",
    "cv2.imwrite('after_calibration/test_undist.jpg',dst)\n",
    "\n",
    "# Save the camera calibration result for later use (we won't worry about rvecs / tvecs)\n",
    "dist_pickle = {}\n",
    "dist_pickle[\"mtx\"] = mtx\n",
    "dist_pickle[\"dist\"] = dist\n",
    "#pickle.dump( dist_pickle, open( \"Result/camera.p\", \"wb\" ) )\n",
    "parameter = open( \"Result/camera.p\",\"wb\")\n",
    "pickle.dump(dist_pickle,parameter,-1)"
   ]
  },
  {
   "cell_type": "code",
   "execution_count": null,
   "metadata": {},
   "outputs": [],
   "source": []
  }
 ],
 "metadata": {
  "kernelspec": {
   "display_name": "Python 3",
   "language": "python",
   "name": "python3"
  },
  "language_info": {
   "codemirror_mode": {
    "name": "ipython",
    "version": 3
   },
   "file_extension": ".py",
   "mimetype": "text/x-python",
   "name": "python",
   "nbconvert_exporter": "python",
   "pygments_lexer": "ipython3",
   "version": "3.6.3"
  }
 },
 "nbformat": 4,
 "nbformat_minor": 2
}
